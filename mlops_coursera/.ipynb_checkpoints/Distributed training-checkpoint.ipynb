{
 "cells": [
  {
   "cell_type": "code",
   "execution_count": 1,
   "id": "64be284a-f744-450a-b2ce-b11016a24120",
   "metadata": {},
   "outputs": [],
   "source": [
    "import os\n",
    "import sys\n",
    "import json\n",
    "import time\n",
    "\n",
    "# Log additional outputs from TF's C++ backend\n",
    "os.environ['TF_CPP_MIN_LOG_LEVEL'] = '0'"
   ]
  },
  {
   "cell_type": "code",
   "execution_count": 2,
   "id": "881ce569-f293-4f98-a290-49cfd5bd47e5",
   "metadata": {},
   "outputs": [],
   "source": [
    "# Disable GPUs\n",
    "os.environ[\"CUDA_VISIBLE_DEVICES\"] = \"-1\"\n",
    "\n",
    "# Add current directory to path\n",
    "if '.' not in sys.path:\n",
    "  sys.path.insert(0, '.')"
   ]
  },
  {
   "cell_type": "code",
   "execution_count": 3,
   "id": "bdd86b56-159d-4249-8a31-d410a153cf00",
   "metadata": {},
   "outputs": [],
   "source": [
    "import tensorflow as tf\n",
    "\n",
    "# Ignore warnings\n",
    "tf.get_logger().setLevel('ERROR')"
   ]
  },
  {
   "cell_type": "code",
   "execution_count": 4,
   "id": "f206403b-2a4b-4938-8c14-32475f98d9cb",
   "metadata": {},
   "outputs": [
    {
     "name": "stdout",
     "output_type": "stream",
     "text": [
      "Writing mnist.py\n"
     ]
    }
   ],
   "source": [
    "%%writefile mnist.py\n",
    "\n",
    "# import os\n",
    "import tensorflow as tf\n",
    "import numpy as np\n",
    "\n",
    "def mnist_dataset(batch_size):\n",
    "  # Load the data\n",
    "  (x_train, y_train), _ = tf.keras.datasets.mnist.load_data()\n",
    "  # Normalize pixel values for x_train and cast to float32\n",
    "  x_train = x_train / np.float32(255)\n",
    "  # Cast y_train to int64\n",
    "  y_train = y_train.astype(np.int64)\n",
    "  # Define repeated and shuffled dataset\n",
    "  train_dataset = tf.data.Dataset.from_tensor_slices((x_train, y_train)).shuffle(60000).repeat().batch(batch_size)\n",
    "  return train_dataset\n",
    "\n",
    "\n",
    "def build_and_compile_cnn_model():\n",
    "  # Define simple CNN model using Keras Sequential\n",
    "  model = tf.keras.Sequential([\n",
    "      tf.keras.layers.InputLayer(input_shape=(28, 28)),\n",
    "      tf.keras.layers.Reshape(target_shape=(28, 28, 1)),\n",
    "      tf.keras.layers.Conv2D(32, 3, activation='relu'),\n",
    "      tf.keras.layers.Flatten(),\n",
    "      tf.keras.layers.Dense(128, activation='relu'),\n",
    "      tf.keras.layers.Dense(10)\n",
    "  ])\n",
    "\n",
    "  # Compile model\n",
    "  model.compile(\n",
    "      loss=tf.keras.losses.SparseCategoricalCrossentropy(from_logits=True),\n",
    "      optimizer=tf.keras.optimizers.SGD(learning_rate=0.001),\n",
    "      metrics=['accuracy'])\n",
    "  \n",
    "  return model"
   ]
  },
  {
   "cell_type": "code",
   "execution_count": 8,
   "id": "37fb9032-461a-46d6-b4b6-f51810ee9422",
   "metadata": {},
   "outputs": [
    {
     "name": "stdout",
     "output_type": "stream",
     "text": [
      " Volume in drive C has no label.\n",
      " Volume Serial Number is 32C8-2425\n",
      "\n",
      " Directory of C:\\git_repo\\ML_experiments\\ml_experiments\\mlops_coursera\n",
      "\n",
      "10/13/2024  02:44 PM                 0 distributed_training.py\n",
      "10/13/2024  03:33 PM             1,174 mnist.py\n",
      "               2 File(s)          1,174 bytes\n",
      "               0 Dir(s)  386,796,793,856 bytes free\n"
     ]
    }
   ],
   "source": [
    "!dir *.py"
   ]
  },
  {
   "cell_type": "code",
   "execution_count": 9,
   "id": "fda65838-2abb-492f-98d8-33e51a9b1016",
   "metadata": {},
   "outputs": [
    {
     "name": "stdout",
     "output_type": "stream",
     "text": [
      "Downloading data from https://storage.googleapis.com/tensorflow/tf-keras-datasets/mnist.npz\n",
      "11490434/11490434 [==============================] - 2s 0us/step\n",
      "Epoch 1/3\n",
      "70/70 [==============================] - 3s 33ms/step - loss: 2.2864 - accuracy: 0.1379\n",
      "Epoch 2/3\n",
      "70/70 [==============================] - 2s 31ms/step - loss: 2.2429 - accuracy: 0.2625\n",
      "Epoch 3/3\n",
      "70/70 [==============================] - 2s 33ms/step - loss: 2.1915 - accuracy: 0.3647\n"
     ]
    },
    {
     "data": {
      "text/plain": [
       "<keras.callbacks.History at 0x2495c9eec50>"
      ]
     },
     "execution_count": 9,
     "metadata": {},
     "output_type": "execute_result"
    }
   ],
   "source": [
    "# Import your mnist model\n",
    "import mnist\n",
    "\n",
    "# Set batch size\n",
    "batch_size = 64\n",
    "\n",
    "# Load the dataset\n",
    "single_worker_dataset = mnist.mnist_dataset(batch_size)\n",
    "\n",
    "# Load compiled CNN model\n",
    "single_worker_model = mnist.build_and_compile_cnn_model()\n",
    "\n",
    "# As training progresses, the loss should drop and the accuracy should increase.\n",
    "single_worker_model.fit(single_worker_dataset, epochs=3, steps_per_epoch=70)"
   ]
  },
  {
   "cell_type": "markdown",
   "id": "874be65a-c498-4a5f-90a9-a171fe8873f9",
   "metadata": {},
   "source": [
    "MULTI WORKER CONFIGURATION"
   ]
  },
  {
   "cell_type": "markdown",
   "id": "32bcbaba-eb79-4463-a32f-f7a7e3d524ce",
   "metadata": {},
   "source": [
    "Now let's enter the world of multi-worker training. In TensorFlow, the TF_CONFIG environment variable is required for training on multiple machines, each of which possibly has a different role. TF_CONFIG is a JSON string used to specify the cluster configuration on each worker that is part of the cluster.\n",
    "\n",
    "There are two components of TF_CONFIG: cluster and task.\n",
    "\n",
    "Let's dive into how they are used:\n",
    "\n",
    "cluster:\n",
    "\n",
    "It is the same for all workers and provides information about the training cluster, which is a dict consisting of different types of jobs such as worker.\n",
    "\n",
    "In multi-worker training with MultiWorkerMirroredStrategy, there is usually one worker that takes on a little more responsibility like saving checkpoint and writing summary file for TensorBoard in addition to what a regular worker does.\n",
    "\n",
    "Such a worker is referred to as the chief worker, and it is customary that the worker with index 0 is appointed as the chief worker (in fact this is how tf.distribute.Strategy is implemented).\n",
    "\n",
    "task:\n",
    "\n",
    "Provides information of the current task and is different on each worker. It specifies the type and index of that worker.\n",
    "Here is an example configuration:"
   ]
  },
  {
   "cell_type": "code",
   "execution_count": 12,
   "id": "62f9ee75-43f2-449b-b5db-b10a4a46a0a5",
   "metadata": {},
   "outputs": [],
   "source": [
    "tf_config = {\n",
    "    'cluster': {\n",
    "        'worker': ['localhost:12345', 'localhost:23456']\n",
    "    },\n",
    "    'task': {'type': 'worker', 'index': 0}\n",
    "}"
   ]
  },
  {
   "cell_type": "code",
   "execution_count": 13,
   "id": "b741b21a-e05b-46dd-a222-e1386e910096",
   "metadata": {},
   "outputs": [
    {
     "data": {
      "text/plain": [
       "'{\"cluster\": {\"worker\": [\"localhost:12345\", \"localhost:23456\"]}, \"task\": {\"type\": \"worker\", \"index\": 0}}'"
      ]
     },
     "execution_count": 13,
     "metadata": {},
     "output_type": "execute_result"
    }
   ],
   "source": [
    "json.dumps(tf_config)"
   ]
  },
  {
   "cell_type": "code",
   "execution_count": 15,
   "id": "2156579c-0b96-4079-be10-ecae798d6bea",
   "metadata": {},
   "outputs": [],
   "source": [
    "# SYNCHRONOUS TRAINING WITH multiworker mirrored strategy\n",
    "strategy = tf.distribute.MultiWorkerMirroredStrategy()"
   ]
  },
  {
   "cell_type": "markdown",
   "id": "860de2cf-526f-47c5-a669-73730ad753cd",
   "metadata": {},
   "source": [
    "MultiWorkerMirroredStrategy creates copies of all variables in the model's layers on each device across all workers. It uses CollectiveOps, a TensorFlow op for collective communication, to aggregate gradients and keep the variables in sync. "
   ]
  },
  {
   "cell_type": "markdown",
   "id": "ebaa45a2-8b04-42dc-8228-24bca2e6f471",
   "metadata": {},
   "source": [
    ":### Implement Distributed Training via Context Managers\n",
    "\n",
    "To distribute the training to multiple-workers all you need to do is to enclose the model building and `model.compile()` call inside `strategy.scope()`. \n",
    "\n",
    "The distribution strategy's scope dictates how and where the variables are created, and in the case of `MultiWorkerMirroredStrategy`, the variables created are `MirroredVariable`s, and they are replicated on each of the workers.\n"
   ]
  },
  {
   "cell_type": "code",
   "execution_count": 16,
   "id": "e2e6ba1e-721a-4053-8e1b-24b0a44d9930",
   "metadata": {},
   "outputs": [],
   "source": [
    "# Implementing distributed strategy via a context manager\n",
    "with strategy.scope():\n",
    "  multi_worker_model = mnist.build_and_compile_cnn_model()"
   ]
  },
  {
   "cell_type": "markdown",
   "id": "3f52ce64-6f7e-47eb-8b3b-c5b3011c2c1c",
   "metadata": {},
   "source": [
    "Since TF_CONFIG is not set yet the above strategy is effectively single-worker training"
   ]
  },
  {
   "cell_type": "markdown",
   "id": "37736721-aabc-4ee1-9919-a3e79bfbde77",
   "metadata": {},
   "source": [
    "TRAIN THE MODEL: CREATE A TRAINIG SCRIPT\n",
    "To actually run with MultiWorkerMirroredStrategy you'll need to run worker processes and pass a TF_CONFIG to them.\n",
    "\n",
    "Like the mnist.py file written earlier, here is the main.py that each of the workers will run:"
   ]
  },
  {
   "cell_type": "code",
   "execution_count": 17,
   "id": "0582adb9-c41e-44dd-bf3d-c35b18f8ab2f",
   "metadata": {},
   "outputs": [
    {
     "name": "stdout",
     "output_type": "stream",
     "text": [
      "Writing main.py\n"
     ]
    }
   ],
   "source": [
    "%%writefile main.py\n",
    "\n",
    "import os\n",
    "import json\n",
    "\n",
    "import tensorflow as tf\n",
    "import mnist # Your module\n",
    "\n",
    "# Define batch size\n",
    "per_worker_batch_size = 64\n",
    "\n",
    "# Get TF_CONFIG from the env variables and save it as JSON\n",
    "tf_config = json.loads(os.environ['TF_CONFIG'])\n",
    "\n",
    "# Infer number of workers from tf_config\n",
    "num_workers = len(tf_config['cluster']['worker'])\n",
    "\n",
    "# Define strategy\n",
    "strategy = tf.distribute.MultiWorkerMirroredStrategy()\n",
    "\n",
    "# Define global batch size\n",
    "global_batch_size = per_worker_batch_size * num_workers\n",
    "\n",
    "# Load dataset\n",
    "multi_worker_dataset = mnist.mnist_dataset(global_batch_size)\n",
    "\n",
    "# Create and compile model following the distributed strategy\n",
    "with strategy.scope():\n",
    "  multi_worker_model = mnist.build_and_compile_cnn_model()\n",
    "\n",
    "# Train the model\n",
    "multi_worker_model.fit(multi_worker_dataset, epochs=3, steps_per_epoch=70)"
   ]
  },
  {
   "cell_type": "markdown",
   "id": "d31cd4a9-4c87-497f-9ee9-afb9885f715e",
   "metadata": {},
   "source": [
    "In the code snippet above note that the `global_batch_size`, which gets passed to `Dataset.batch`, is set to `per_worker_batch_size * num_workers`. This ensures that each worker processes batches of `per_worker_batch_size` examples regardless of the number of workers."
   ]
  },
  {
   "cell_type": "markdown",
   "id": "e9dbfd07-6b56-4542-a1c5-49ca602ef760",
   "metadata": {},
   "source": [
    "set TF_CONFIG environment variable\n"
   ]
  },
  {
   "cell_type": "code",
   "execution_count": 18,
   "id": "35423731-1199-40af-90d5-21ddea2864e5",
   "metadata": {},
   "outputs": [],
   "source": [
    "\n",
    "# Set TF_CONFIG env variable\n",
    "os.environ['TF_CONFIG'] = json.dumps(tf_config)"
   ]
  },
  {
   "cell_type": "code",
   "execution_count": 19,
   "id": "f51247b0-905c-4cae-94c0-26a45958b420",
   "metadata": {},
   "outputs": [
    {
     "name": "stdout",
     "output_type": "stream",
     "text": [
      "All background processes were killed.\n"
     ]
    }
   ],
   "source": [
    "# first kill any previous runs\n",
    "%killbgscripts"
   ]
  },
  {
   "cell_type": "code",
   "execution_count": 22,
   "id": "44d1616a-b61b-4627-9c8a-6e45ebe55b81",
   "metadata": {},
   "outputs": [
    {
     "name": "stdout",
     "output_type": "stream",
     "text": [
      "\n",
      "Image Name                     PID Session Name        Session#    Mem Usage\n",
      "========================= ======== ================ =========== ============\n",
      "System Idle Process              0 Services                   0          8 K\n",
      "System                           4 Services                   0        156 K\n",
      "Secure System                  108 Services                   0     46,948 K\n",
      "Registry                       148 Services                   0     41,972 K\n",
      "smss.exe                       600 Services                   0      1,112 K\n",
      "csrss.exe                      932 Services                   0      5,300 K\n",
      "wininit.exe                   1020 Services                   0      5,900 K\n",
      "csrss.exe                      480 Console                    1      6,644 K\n",
      "services.exe                  1028 Services                   0      9,972 K\n",
      "LsaIso.exe                    1048 Services                   0      3,176 K\n",
      "lsass.exe                     1064 Services                   0     28,332 K\n",
      "svchost.exe                   1188 Services                   0     34,276 K\n",
      "WUDFHost.exe                  1204 Services                   0      7,168 K\n",
      "fontdrvhost.exe               1236 Services                   0      2,804 K\n",
      "svchost.exe                   1328 Services                   0     18,844 K\n",
      "svchost.exe                   1380 Services                   0      7,804 K\n",
      "WUDFHost.exe                  1444 Services                   0     20,772 K\n",
      "winlogon.exe                  1532 Console                    1     11,468 K\n",
      "fontdrvhost.exe               1584 Console                    1      4,856 K\n",
      "svchost.exe                   1676 Services                   0      5,056 K\n",
      "svchost.exe                   1692 Services                   0      8,276 K\n",
      "svchost.exe                   1700 Services                   0     11,116 K\n",
      "svchost.exe                   1760 Services                   0      7,352 K\n",
      "svchost.exe                   1768 Services                   0     11,912 K\n",
      "svchost.exe                   1784 Services                   0     14,876 K\n",
      "svchost.exe                   1864 Services                   0     10,544 K\n",
      "svchost.exe                   1872 Services                   0     10,804 K\n",
      "svchost.exe                   1888 Services                   0      9,588 K\n",
      "IntelCpHDCPSvc.exe            2008 Services                   0      5,412 K\n",
      "svchost.exe                   2024 Services                   0     17,976 K\n",
      "svchost.exe                    648 Services                   0      9,796 K\n",
      "svchost.exe                   2080 Services                   0      5,460 K\n",
      "svchost.exe                   2088 Services                   0      7,864 K\n",
      "svchost.exe                   2132 Services                   0     10,052 K\n",
      "svchost.exe                   2284 Services                   0      9,000 K\n",
      "svchost.exe                   2308 Services                   0      8,476 K\n",
      "igfxCUIServiceN.exe           2332 Services                   0     10,440 K\n",
      "svchost.exe                   2388 Services                   0      7,640 K\n",
      "dwm.exe                       2472 Console                    1    142,536 K\n",
      "svchost.exe                   2572 Services                   0     14,668 K\n",
      "svchost.exe                   2668 Services                   0     15,760 K\n",
      "svchost.exe                   2680 Services                   0      9,500 K\n",
      "svchost.exe                   2772 Services                   0      9,888 K\n",
      "svchost.exe                   2852 Services                   0     12,720 K\n",
      "svchost.exe                   2868 Services                   0      5,564 K\n",
      "wsc_proxy.exe                 2876 Services                   0     12,352 K\n",
      "Memory Compression            3008 Services                   0  1,024,284 K\n",
      "svchost.exe                   3028 Services                   0     18,328 K\n",
      "svchost.exe                   3036 Services                   0      7,516 K\n",
      "svchost.exe                   3344 Services                   0      8,412 K\n",
      "svchost.exe                   3352 Services                   0      6,880 K\n",
      "svchost.exe                   3428 Services                   0     22,032 K\n",
      "svchost.exe                   3460 Services                   0     14,520 K\n",
      "svchost.exe                   3488 Services                   0      6,800 K\n",
      "svchost.exe                   3572 Services                   0     10,008 K\n",
      "svchost.exe                   3600 Services                   0     18,956 K\n",
      "svchost.exe                   3624 Services                   0     11,216 K\n",
      "svchost.exe                   3632 Services                   0     17,244 K\n",
      "AvastSvc.exe                  3704 Services                   0    247,640 K\n",
      "wlanext.exe                   3808 Services                   0      6,416 K\n",
      "conhost.exe                   3820 Services                   0      4,432 K\n",
      "svchost.exe                   3916 Services                   0      5,636 K\n",
      "svchost.exe                   4068 Services                   0      6,116 K\n",
      "aswToolsSvc.exe               3908 Services                   0     71,324 K\n",
      "spoolsv.exe                   4196 Services                   0     19,712 K\n",
      "svchost.exe                   4364 Services                   0     16,596 K\n",
      "svchost.exe                   4456 Services                   0      7,476 K\n",
      "svchost.exe                   4516 Services                   0      5,184 K\n",
      "svchost.exe                   4780 Services                   0     47,656 K\n",
      "DAX3API.exe                   4788 Services                   0     17,212 K\n",
      "ELANFPService.exe             4796 Services                   0      5,352 K\n",
      "svchost.exe                   4804 Services                   0     38,944 K\n",
      "ElevocControlService.exe      4820 Services                   0      7,604 K\n",
      "esif_uf.exe                   4868 Services                   0      6,268 K\n",
      "OneApp.IGCC.WinService.ex     4876 Services                   0     31,276 K\n",
      "IntelAudioService.exe         4956 Services                   0     30,328 K\n",
      "svchost.exe                   4968 Services                   0     10,628 K\n",
      "LenovoUtilityService.exe      4996 Services                   0     11,820 K\n",
      "LNBITSSvc.exe                 5052 Services                   0     17,504 K\n",
      "LMS.exe                       5064 Services                   0      9,752 K\n",
      "MpDefenderCoreService.exe     5072 Services                   0     21,064 K\n",
      "svchost.exe                   3288 Services                   0      5,248 K\n",
      "RtkAudUService64.exe          3276 Services                   0     12,044 K\n",
      "WMIRegistrationService.ex      616 Services                   0     13,460 K\n",
      "svchost.exe                   2164 Services                   0     24,884 K\n",
      "svchost.exe                   4480 Services                   0     19,000 K\n",
      "MsMpEng.exe                   5156 Services                   0     51,408 K\n",
      "svchost.exe                   5312 Services                   0      8,864 K\n",
      "jhi_service.exe               5640 Services                   0      6,328 K\n",
      "WmiPrvSE.exe                  5912 Services                   0     21,564 K\n",
      "unsecapp.exe                  6264 Services                   0     10,000 K\n",
      "AggregatorHost.exe            6680 Services                   0     10,432 K\n",
      "aswEngSrv.exe                 6920 Services                   0    201,840 K\n",
      "svchost.exe                   7332 Services                   0     10,796 K\n",
      "aswidsagent.exe               7368 Services                   0     76,788 K\n",
      "svchost.exe                   7212 Services                   0     17,480 K\n",
      "svchost.exe                   8256 Services                   0     14,032 K\n",
      "svchost.exe                   8108 Services                   0      8,412 K\n",
      "DAX3API.exe                   1932 Console                    1     11,372 K\n",
      "AutoModeDetect.exe            2544 Console                    1     11,136 K\n",
      "conhost.exe                   2316 Console                    1      7,916 K\n",
      "sihost.exe                    8728 Console                    1     34,248 K\n",
      "svchost.exe                   3372 Console                    1      8,820 K\n",
      "svchost.exe                   8732 Console                    1     30,076 K\n",
      "svchost.exe                   7924 Console                    1      5,760 K\n",
      "taskhostw.exe                 3388 Console                    1     18,216 K\n",
      "svchost.exe                   6564 Services                   0     18,792 K\n",
      "McUpdaterModule.exe           6488 Console                    1      4,412 K\n",
      "SSScheduler.exe               6528 Console                    1      5,152 K\n",
      "svchost.exe                   9256 Services                   0     21,004 K\n",
      "FnHotkeyCapsLKNumLK.exe       9500 Console                    1     12,196 K\n",
      "FnHotkeyUtility.exe           9704 Console                    1     21,032 K\n",
      "unsecapp.exe                  9868 Console                    1      9,552 K\n",
      "explorer.exe                 10032 Console                    1    221,068 K\n",
      "unsecapp.exe                 10228 Console                    1      7,896 K\n",
      "svchost.exe                   9308 Services                   0     11,948 K\n",
      "svchost.exe                   3712 Console                    1     22,876 K\n",
      "StartMenuExperienceHost.e    10644 Console                    1    131,588 K\n",
      "SearchHost.exe               10696 Console                    1    152,608 K\n",
      "Widgets.exe                  10748 Console                    1     41,056 K\n",
      "RuntimeBroker.exe            10788 Console                    1     30,800 K\n",
      "UserOOBEBroker.exe           10988 Console                    1      8,312 K\n",
      "RuntimeBroker.exe             9596 Console                    1     52,624 K\n",
      "WidgetService.exe            11196 Console                    1     18,436 K\n",
      "svchost.exe                  10312 Console                    1     14,308 K\n",
      "dllhost.exe                  10796 Console                    1     15,156 K\n",
      "LocationNotificationWindo    11560 Console                    1      6,412 K\n",
      "ctfmon.exe                   12412 Console                    1     29,240 K\n",
      "mc-webview-cnt.exe           12600 Console                    1      5,272 K\n",
      "svchost.exe                   6500 Services                   0      5,644 K\n",
      "msedgewebview2.exe           10920 Console                    1     22,016 K\n",
      "msedgewebview2.exe           12716 Console                    1        944 K\n",
      "msedgewebview2.exe            5188 Console                    1      5,380 K\n",
      "msedgewebview2.exe            5264 Console                    1      4,240 K\n",
      "msedgewebview2.exe           12864 Console                    1      1,900 K\n",
      "msedgewebview2.exe           11208 Console                    1      1,540 K\n",
      "svchost.exe                   6160 Services                   0      8,764 K\n",
      "svchost.exe                  10712 Services                   0     18,992 K\n",
      "svchost.exe                   8396 Services                   0     11,768 K\n",
      "svchost.exe                    900 Services                   0     16,040 K\n",
      "MoUsoCoreWorker.exe           8700 Services                   0     35,760 K\n",
      "svchost.exe                  11172 Console                    1     19,336 K\n",
      "svchost.exe                  11368 Services                   0     20,900 K\n",
      "svchost.exe                   7608 Services                   0     17,188 K\n",
      "svchost.exe                   5024 Services                   0     16,292 K\n",
      "svchost.exe                   3004 Services                   0      9,948 K\n",
      "SecurityHealthService.exe    12372 Services                   0     18,872 K\n",
      "Locator.exe                    752 Services                   0      3,132 K\n",
      "svchost.exe                   2864 Services                   0      9,660 K\n",
      "svchost.exe                   4840 Console                    1     16,336 K\n",
      "WmiPrvSE.exe                  1748 Services                   0     26,624 K\n",
      "ShellExperienceHost.exe      10980 Console                    1     83,456 K\n",
      "RuntimeBroker.exe             1368 Console                    1     28,816 K\n",
      "RuntimeBroker.exe             6340 Console                    1      9,828 K\n",
      "PhoneExperienceHost.exe      15008 Console                    1    160,100 K\n",
      "chrome.exe                   15184 Console                    1    230,304 K\n",
      "chrome.exe                   15256 Console                    1      8,836 K\n",
      "chrome.exe                   14544 Console                    1    261,328 K\n",
      "chrome.exe                   14588 Console                    1     69,232 K\n",
      "chrome.exe                    8432 Console                    1     22,476 K\n",
      "SecurityHealthSystray.exe    15204 Console                    1     10,728 K\n",
      "RtkAudUService64.exe          6560 Console                    1     16,492 K\n",
      "AvastUI.exe                  15468 Console                    1     60,064 K\n",
      "OneDrive.exe                 15568 Console                    1    102,988 K\n",
      "AvastUI.exe                  16552 Console                    1     12,812 K\n",
      "AvastUI.exe                  16400 Console                    1      6,812 K\n",
      "AvastUI.exe                  16444 Console                    1     16,796 K\n",
      "opera.exe                    16688 Console                    1    105,848 K\n",
      "opera_crashreporter.exe      17004 Console                    1      8,084 K\n",
      "opera.exe                    16924 Console                    1     67,892 K\n",
      "opera.exe                    17336 Console                    1     36,360 K\n",
      "browser_assistant.exe        17196 Console                    1     23,904 K\n",
      "opera.exe                    16708 Console                    1     19,500 K\n",
      "browser_assistant.exe        18268 Console                    1      9,940 K\n",
      "ms-teams.exe                 18600 Console                    1     29,528 K\n",
      "CrossDeviceService.exe       18844 Console                    1     74,792 K\n",
      "opera.exe                    15944 Console                    1     42,064 K\n",
      "opera.exe                    15556 Console                    1     44,424 K\n",
      "opera.exe                    15536 Console                    1     40,728 K\n",
      "opera.exe                    17332 Console                    1     58,740 K\n",
      "opera.exe                    17604 Console                    1     47,320 K\n",
      "opera.exe                    17620 Console                    1     22,920 K\n",
      "opera.exe                    18148 Console                    1     47,796 K\n",
      "RuntimeBroker.exe            16456 Console                    1     11,188 K\n",
      "opera.exe                    13460 Console                    1     54,400 K\n",
      "opera.exe                    14776 Console                    1     47,928 K\n",
      "HyperPKICertD_HYP2003.exe    19648 Console                    1     10,956 K\n",
      "opera.exe                    19816 Console                    1     62,040 K\n",
      "opera.exe                    20300 Console                    1     50,268 K\n",
      "opera.exe                    16048 Console                    1     27,596 K\n",
      "chrome.exe                   19708 Console                    1    221,892 K\n",
      "chrome.exe                   18976 Console                    1     23,504 K\n",
      "chrome.exe                   15952 Console                    1     42,832 K\n",
      "chrome.exe                    1128 Console                    1     48,668 K\n",
      "armsvc.exe                   17088 Services                   0      7,104 K\n",
      "chrome.exe                   17772 Console                    1    303,132 K\n",
      "SystemSettingsBroker.exe      7704 Console                    1     33,760 K\n",
      "svchost.exe                  13548 Services                   0      7,020 K\n",
      "svchost.exe                   7140 Console                    1      9,044 K\n",
      "svchost.exe                  13284 Services                   0     13,196 K\n",
      "msedgewebview2.exe           11048 Console                    1     59,100 K\n",
      "msedgewebview2.exe            6700 Console                    1      7,756 K\n",
      "msedgewebview2.exe            9496 Console                    1     10,272 K\n",
      "msedgewebview2.exe           13148 Console                    1     25,048 K\n",
      "msedgewebview2.exe           20000 Console                    1      7,160 K\n",
      "msedgewebview2.exe            8112 Console                    1    110,456 K\n",
      "backgroundTaskHost.exe        4916 Console                    1      2,212 K\n",
      "WmiApSrv.exe                 19384 Services                   0      8,832 K\n",
      "chrome.exe                   11472 Console                    1     75,044 K\n",
      "LenovoVantageService.exe      2844 Services                   0     68,092 K\n",
      "LenovoVantage-(VantageCor    18536 Services                   0      5,980 K\n",
      "QSHelper.exe                  8144 Console                    1     16,176 K\n",
      "LenovoVantage-(DeviceSett    13400 Console                    1      3,608 K\n",
      "LenovoVantage-(GenericMes    18324 Console                    1      8,048 K\n",
      "backgroundTaskHost.exe       18404 Console                    1      5,060 K\n",
      "RuntimeBroker.exe            12224 Console                    1      9,140 K\n",
      "chrome.exe                    8400 Console                    1     68,060 K\n",
      "chrome.exe                   10484 Console                    1     53,984 K\n",
      "dllhost.exe                  14028 Console                    1      8,700 K\n",
      "LockApp.exe                   9964 Console                    1     66,784 K\n",
      "RuntimeBroker.exe            20500 Console                    1     39,616 K\n",
      "svchost.exe                  20924 Services                   0      5,684 K\n",
      "backgroundTaskHost.exe       21868 Console                    1      2,224 K\n",
      "svchost.exe                  12252 Services                   0      7,604 K\n",
      "OfficeClickToRun.exe         14128 Services                   0     42,740 K\n",
      "AppVShNotify.exe             22144 Console                    1      8,276 K\n",
      "SearchIndexer.exe            14620 Services                   0    117,568 K\n",
      "chrome.exe                   20820 Console                    1     86,676 K\n",
      "SDXHelper.exe                12156 Console                    1     24,660 K\n",
      "backgroundTaskHost.exe       21760 Console                    1      2,780 K\n",
      "chrome.exe                    6484 Console                    1     96,836 K\n",
      "chrome.exe                   14280 Console                    1     92,064 K\n",
      "audiodg.exe                   2436 Services                   0     22,656 K\n",
      "ApplicationFrameHost.exe     13980 Console                    1     27,660 K\n",
      "RtkUWP.exe                   10372 Console                    1     44,160 K\n",
      "RuntimeBroker.exe            18788 Console                    1     11,280 K\n",
      "chrome.exe                   15312 Console                    1    112,424 K\n",
      "chrome.exe                   20668 Console                    1    131,012 K\n",
      "chrome.exe                   16680 Console                    1    242,152 K\n",
      "dllhost.exe                  21960 Console                    1      8,608 K\n",
      "svchost.exe                   5424 Console                    1     35,596 K\n",
      "backgroundTaskHost.exe       21688 Console                    1      2,164 K\n",
      "chrome.exe                    4508 Console                    1     60,192 K\n",
      "chrome.exe                   21860 Console                    1     50,552 K\n",
      "pycharm64.exe                14596 Console                    1  1,366,848 K\n",
      "fsnotifier.exe                2032 Console                    1      3,252 K\n",
      "conhost.exe                  12008 Console                    1      5,804 K\n",
      "OpenConsole.exe               1440 Console                    1      8,848 K\n",
      "powershell.exe               12292 Console                    1     48,812 K\n",
      "taskhostw.exe                10824 Console                    1     19,108 K\n",
      "jupyter.exe                  19056 Console                    1      6,152 K\n",
      "python.exe                    8316 Console                    1     10,060 K\n",
      "jupyter-notebook.exe           624 Console                    1      6,140 K\n",
      "python.exe                   19544 Console                    1     34,440 K\n",
      "OpenConsole.exe               3928 Console                    1      9,324 K\n",
      "powershell.exe               21596 Console                    1     62,016 K\n",
      "chrome.exe                   19180 Console                    1     84,808 K\n",
      "chrome.exe                   20768 Console                    1     55,424 K\n",
      "OpenConsole.exe              18528 Console                    1      9,688 K\n",
      "powershell.exe               21316 Console                    1     67,696 K\n",
      "SearchFilterHost.exe         17052 Services                   0     11,284 K\n",
      "msedge.exe                   13120 Console                    1    217,672 K\n",
      "msedge.exe                   12904 Console                    1      8,492 K\n",
      "msedge.exe                    3184 Console                    1    251,824 K\n",
      "msedge.exe                    3416 Console                    1     52,048 K\n",
      "msedge.exe                   13140 Console                    1     19,408 K\n",
      "chrome.exe                   12728 Console                    1    138,168 K\n",
      "chrome.exe                   19080 Console                    1     27,560 K\n",
      "chrome.exe                    9044 Console                    1    135,020 K\n",
      "SearchFilterHost.exe         10108 Services                   0      9,800 K\n",
      "msedge.exe                    7836 Console                    1     48,584 K\n",
      "msedge.exe                   17488 Console                    1     49,360 K\n",
      "msedge.exe                    7700 Console                    1     23,460 K\n",
      "RuntimeBroker.exe            22468 Console                    1     21,820 K\n",
      "msedge.exe                   16784 Console                    1    308,776 K\n",
      "msedge.exe                   21476 Console                    1    221,740 K\n",
      "msedge.exe                   10956 Console                    1     21,672 K\n",
      "backgroundTaskHost.exe       20432 Console                    1      2,420 K\n",
      "SearchProtocolHost.exe        9548 Services                   0     19,976 K\n",
      "jupyter.exe                  21100 Console                    1      6,944 K\n",
      "python.exe                   22228 Console                    1     20,788 K\n",
      "jupyter-notebook.exe         18772 Console                    1      6,948 K\n",
      "python.exe                   12964 Console                    1    107,764 K\n",
      "python.exe                   17412 Console                    1    789,788 K\n",
      "msedge.exe                   14328 Console                    1     31,060 K\n",
      "svchost.exe                  16316 Services                   0      6,364 K\n",
      "svchost.exe                   2580 Services                   0      7,964 K\n",
      "svchost.exe                  19136 Services                   0     11,168 K\n",
      "cmd.exe                      20892 Console                    1      7,060 K\n",
      "tasklist.exe                 15588 Console                    1     10,440 K\n"
     ]
    }
   ],
   "source": [
    "# This should not print anything at the moment\n",
    "!tasklist"
   ]
  },
  {
   "cell_type": "markdown",
   "id": "1a8939b4-404f-4bf7-8d3b-d6c7a08db5a2",
   "metadata": {},
   "source": [
    "LAUNCH A WORKER"
   ]
  },
  {
   "cell_type": "code",
   "execution_count": 27,
   "id": "3e880f96-7222-4cce-ad30-50ac9772a34a",
   "metadata": {},
   "outputs": [],
   "source": [
    "!python main.py > job_0.log 2>&1"
   ]
  },
  {
   "cell_type": "code",
   "execution_count": 26,
   "id": "bfd0d22a-eaf5-4cb0-895a-f78f33de8b5b",
   "metadata": {},
   "outputs": [
    {
     "data": {
      "text/plain": [
       "'C:\\\\git_repo\\\\ML_experiments\\\\ml_experiments\\\\mlops_coursera'"
      ]
     },
     "execution_count": 26,
     "metadata": {},
     "output_type": "execute_result"
    }
   ],
   "source": [
    "pwd"
   ]
  },
  {
   "cell_type": "code",
   "execution_count": null,
   "id": "117c2f1c-b313-4b83-b828-833e7735887b",
   "metadata": {},
   "outputs": [],
   "source": []
  },
  {
   "cell_type": "code",
   "execution_count": null,
   "id": "a1380052-8370-4771-9478-ce8e7122271d",
   "metadata": {},
   "outputs": [],
   "source": []
  }
 ],
 "metadata": {
  "kernelspec": {
   "display_name": "Python 3 (ipykernel)",
   "language": "python",
   "name": "python3"
  },
  "language_info": {
   "codemirror_mode": {
    "name": "ipython",
    "version": 3
   },
   "file_extension": ".py",
   "mimetype": "text/x-python",
   "name": "python",
   "nbconvert_exporter": "python",
   "pygments_lexer": "ipython3",
   "version": "3.10.13"
  }
 },
 "nbformat": 4,
 "nbformat_minor": 5
}
