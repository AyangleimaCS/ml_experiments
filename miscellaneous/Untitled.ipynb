{
 "cells": [
  {
   "cell_type": "code",
   "execution_count": 1,
   "id": "9f4601e6-382c-4980-9d71-3aa954c8636a",
   "metadata": {},
   "outputs": [],
   "source": [
    "nums=[2,7,11,15]\n",
    "target = 9"
   ]
  },
  {
   "cell_type": "code",
   "execution_count": 8,
   "id": "2d0916f9-f175-4504-8b8d-587843c57002",
   "metadata": {},
   "outputs": [
    {
     "name": "stdout",
     "output_type": "stream",
     "text": [
      "0\n",
      "1\n",
      "[0, 1]\n",
      "1\n",
      "2\n",
      "2\n",
      "3\n"
     ]
    }
   ],
   "source": [
    "for i in range(len(nums)):\n",
    "    print(i)\n",
    "    for j in range(i+1, len(nums)-1):\n",
    "        print(j)\n",
    "        if nums[i]+nums[j]==target:\n",
    "            print([i, j])\n",
    "            break"
   ]
  },
  {
   "cell_type": "code",
   "execution_count": 13,
   "id": "2285b848-13d0-46eb-8a71-ef7cb2150ac4",
   "metadata": {},
   "outputs": [
    {
     "data": {
      "text/plain": [
       "[0, 1]"
      ]
     },
     "execution_count": 13,
     "metadata": {},
     "output_type": "execute_result"
    }
   ],
   "source": [
    "def two_sum(nums, target):\n",
    "    hashmap = {} #val:index\n",
    "    for i, n in enumerate(nums):\n",
    "        diff = target-n\n",
    "        if diff in hashmap:\n",
    "            return [hashmap[diff], i]\n",
    "        hashmap[n]=i\n",
    "    return \n",
    "two_sum(nums, target)"
   ]
  },
  {
   "cell_type": "code",
   "execution_count": 29,
   "id": "6625b9fd-bf51-40fc-be06-c1a9d98b96ad",
   "metadata": {},
   "outputs": [],
   "source": [
    "class ListNode:\n",
    "    def __init__(self, val=0, next=None):\n",
    "        self.val = val\n",
    "        self.next = next\n",
    "class Solution:\n",
    "    def addTwoNumbers(self, l1: ListNode, l2: ListNode) -> ListNode:\n",
    "        # l1 = ListNode()\n",
    "        dummy = ListNode()\n",
    "        carry = 0\n",
    "        print(l1)\n",
    "        cur = dummy\n",
    "        while l1 or l2:\n",
    "            v1 = l1.val if l1 else 0\n",
    "            v2 = l2.val if l2 else 0\n",
    "            val = v1+v2+carry\n",
    "            carry = res//10\n",
    "            dummy = res%10\n",
    "            cur.next = ListNode()\n",
    "            cur = cur.next\n",
    "            l1 = l1.next if l1 else None\n",
    "            l2 = l2.next if l2 else None\n",
    "        return dummy.next\n"
   ]
  },
  {
   "cell_type": "code",
   "execution_count": 30,
   "id": "d408d2a6-5bf6-422d-aa53-aee791148fcd",
   "metadata": {},
   "outputs": [
    {
     "name": "stdout",
     "output_type": "stream",
     "text": [
      "[2, 4, 3]\n"
     ]
    },
    {
     "ename": "AttributeError",
     "evalue": "'list' object has no attribute 'val'",
     "output_type": "error",
     "traceback": [
      "\u001b[1;31m---------------------------------------------------------------------------\u001b[0m",
      "\u001b[1;31mAttributeError\u001b[0m                            Traceback (most recent call last)",
      "Cell \u001b[1;32mIn[30], line 4\u001b[0m\n\u001b[0;32m      2\u001b[0m l2 \u001b[38;5;241m=\u001b[39m [\u001b[38;5;241m5\u001b[39m,\u001b[38;5;241m6\u001b[39m,\u001b[38;5;241m4\u001b[39m]\n\u001b[0;32m      3\u001b[0m sol \u001b[38;5;241m=\u001b[39m Solution()\n\u001b[1;32m----> 4\u001b[0m sol\u001b[38;5;241m.\u001b[39maddTwoNumbers(l1, l2)\n",
      "Cell \u001b[1;32mIn[29], line 13\u001b[0m, in \u001b[0;36mSolution.addTwoNumbers\u001b[1;34m(self, l1, l2)\u001b[0m\n\u001b[0;32m     11\u001b[0m cur \u001b[38;5;241m=\u001b[39m dummy\n\u001b[0;32m     12\u001b[0m \u001b[38;5;28;01mwhile\u001b[39;00m l1 \u001b[38;5;129;01mor\u001b[39;00m l2:\n\u001b[1;32m---> 13\u001b[0m     v1 \u001b[38;5;241m=\u001b[39m l1\u001b[38;5;241m.\u001b[39mval \u001b[38;5;28;01mif\u001b[39;00m l1 \u001b[38;5;28;01melse\u001b[39;00m \u001b[38;5;241m0\u001b[39m\n\u001b[0;32m     14\u001b[0m     v2 \u001b[38;5;241m=\u001b[39m l2\u001b[38;5;241m.\u001b[39mval \u001b[38;5;28;01mif\u001b[39;00m l2 \u001b[38;5;28;01melse\u001b[39;00m \u001b[38;5;241m0\u001b[39m\n\u001b[0;32m     15\u001b[0m     val \u001b[38;5;241m=\u001b[39m v1\u001b[38;5;241m+\u001b[39mv2\u001b[38;5;241m+\u001b[39mcarry\n",
      "\u001b[1;31mAttributeError\u001b[0m: 'list' object has no attribute 'val'"
     ]
    }
   ],
   "source": [
    "l1 = [2,4,3]\n",
    "l2 = [5,6,4]\n",
    "sol = Solution()\n",
    "sol.addTwoNumbers(l1, l2)"
   ]
  },
  {
   "cell_type": "code",
   "execution_count": null,
   "id": "38265af5-fa89-4348-bba9-0a9ffc09e6af",
   "metadata": {},
   "outputs": [],
   "source": []
  },
  {
   "cell_type": "code",
   "execution_count": null,
   "id": "454e28e0-9f7b-468b-ada4-987114c24fa6",
   "metadata": {},
   "outputs": [],
   "source": []
  },
  {
   "cell_type": "code",
   "execution_count": null,
   "id": "19ca86e7-ca39-47e3-8631-6db35bbe3c71",
   "metadata": {},
   "outputs": [],
   "source": []
  },
  {
   "cell_type": "code",
   "execution_count": null,
   "id": "851dbc5a-7187-4117-ba01-c8f4ae78ac46",
   "metadata": {},
   "outputs": [],
   "source": []
  },
  {
   "cell_type": "code",
   "execution_count": null,
   "id": "5d8e7962-89d8-4a0c-99e0-896cd4b0eb1e",
   "metadata": {},
   "outputs": [],
   "source": []
  }
 ],
 "metadata": {
  "kernelspec": {
   "display_name": "Python 3 (ipykernel)",
   "language": "python",
   "name": "python3"
  },
  "language_info": {
   "codemirror_mode": {
    "name": "ipython",
    "version": 3
   },
   "file_extension": ".py",
   "mimetype": "text/x-python",
   "name": "python",
   "nbconvert_exporter": "python",
   "pygments_lexer": "ipython3",
   "version": "3.11.7"
  }
 },
 "nbformat": 4,
 "nbformat_minor": 5
}
